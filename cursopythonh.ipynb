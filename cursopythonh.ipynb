{
  "nbformat": 4,
  "nbformat_minor": 0,
  "metadata": {
    "colab": {
      "name": "cursopythonh.ipynb",
      "provenance": [],
      "mount_file_id": "1AHX01293baZoj3c2FtVlsMogIPP0HkBJ",
      "authorship_tag": "ABX9TyP5IHq+mUAdgEs7X0jJOHIE",
      "include_colab_link": true
    },
    "kernelspec": {
      "name": "python3",
      "display_name": "Python 3"
    },
    "language_info": {
      "name": "python"
    }
  },
  "cells": [
    {
      "cell_type": "markdown",
      "metadata": {
        "id": "view-in-github",
        "colab_type": "text"
      },
      "source": [
        "<a href=\"https://colab.research.google.com/github/DanielAntu/cursobasicopy/blob/main/cursopythonh.ipynb\" target=\"_parent\"><img src=\"https://colab.research.google.com/assets/colab-badge.svg\" alt=\"Open In Colab\"/></a>"
      ]
    },
    {
      "cell_type": "markdown",
      "source": [
        ""
      ],
      "metadata": {
        "id": "jjlVmJlN1sXG"
      }
    },
    {
      "cell_type": "markdown",
      "source": [
        "## **Passo a Passo de solução de desafio**"
      ],
      "metadata": {
        "id": "DnYGR-Zu18fJ"
      }
    },
    {
      "cell_type": "code",
      "execution_count": null,
      "metadata": {
        "colab": {
          "base_uri": "https://localhost:8080/",
          "height": 642
        },
        "id": "DCjOd8Xs1aye",
        "outputId": "d04555da-28b2-4bb3-ee82-21b76afe726a"
      },
      "outputs": [
        {
          "output_type": "display_data",
          "data": {
            "text/plain": [
              "['Devolucoes - Curitiba.csv',\n",
              " 'Devolucoes - Rio de Janeiro.csv',\n",
              " 'Vendas - Recife.csv',\n",
              " 'Devolucoes - Porto Alegre.csv',\n",
              " 'Vendas - Rio de Janeiro.csv',\n",
              " 'Vendas - Salvador.csv',\n",
              " 'Vendas - Belo Horizonte.csv',\n",
              " 'Vendas - Porto Alegre.csv',\n",
              " 'Devolucoes - Goiás.csv',\n",
              " 'Devolucoes - Belo Horizonte.csv',\n",
              " 'Devolucoes - Recife.csv',\n",
              " 'Vendas - Goiás.csv',\n",
              " 'Vendas - Curitiba.csv',\n",
              " 'Vendas - São Paulo.csv',\n",
              " 'Vendas - Fortaleza.csv',\n",
              " 'Devolucoes - Fortaleza.csv',\n",
              " 'Devolucoes - Salvador.csv',\n",
              " 'Devolucoes - São Paulo.csv']"
            ]
          },
          "metadata": {}
        },
        {
          "output_type": "stream",
          "name": "stdout",
          "text": [
            "Devolucoes - Curitiba.csv\n",
            "Devolucoes - Rio de Janeiro.csv\n",
            "Vendas - Recife.csv\n",
            "Devolucoes - Porto Alegre.csv\n",
            "Vendas - Rio de Janeiro.csv\n",
            "Vendas - Salvador.csv\n",
            "Vendas - Belo Horizonte.csv\n",
            "Vendas - Porto Alegre.csv\n",
            "Devolucoes - Goiás.csv\n",
            "Devolucoes - Belo Horizonte.csv\n",
            "Devolucoes - Recife.csv\n",
            "Vendas - Goiás.csv\n",
            "Vendas - Curitiba.csv\n",
            "Vendas - São Paulo.csv\n",
            "Vendas - Fortaleza.csv\n",
            "Devolucoes - Fortaleza.csv\n",
            "Devolucoes - Salvador.csv\n",
            "Devolucoes - São Paulo.csv\n"
          ]
        }
      ],
      "source": [
        "# Lógica de programação\n",
        "\n",
        "# Passo 0 - Entender o desafio que você quer resolver\n",
        "\n",
        "# Passo 1 - Percorrer todos os arquivos da pasta base de dados (Pasta Vendas)\n",
        "import os\n",
        "import pandas as pd\n",
        "lista_arquivos = os.listdir('/content/drive/MyDrive/Curso Básico de Python/Vendas')\n",
        "display(lista_arquivos)"
      ]
    },
    {
      "cell_type": "code",
      "source": [
        "# Passo 2 - Importar as bases de dados de vendas\n",
        "for arquivo in lista_arquivos:\n",
        "  print(arquivo)\n",
        "  print(f'/content/drive/MyDrive/Curso Básico de Python/Vendas/{arquivo}')\n",
        "# Passo 3 - Tratar / Compilar as bases de dados\n",
        "\n",
        "# Passo 4 - Calcular o produto mais vendido (em quantidade)\n",
        "\n",
        "# Passo 5 - Calcular o produto que mais faturou (em faturamento)\n",
        "\n",
        "# Passo 6 - Calcular a loja/cidade que mais vendeu (em faturamento) - criar um gráfico/dashboard"
      ],
      "metadata": {
        "colab": {
          "base_uri": "https://localhost:8080/"
        },
        "id": "lZIGeIi0CLsH",
        "outputId": "c8f4b1d0-41a6-4b22-a55a-43418b97aeb4"
      },
      "execution_count": null,
      "outputs": [
        {
          "output_type": "stream",
          "name": "stdout",
          "text": [
            "Devolucoes - Curitiba.csv\n",
            "/content/drive/MyDrive/Curso Básico de Python/Vendas/Devolucoes - Curitiba.csv\n",
            "Devolucoes - Rio de Janeiro.csv\n",
            "/content/drive/MyDrive/Curso Básico de Python/Vendas/Devolucoes - Rio de Janeiro.csv\n",
            "Vendas - Recife.csv\n",
            "/content/drive/MyDrive/Curso Básico de Python/Vendas/Vendas - Recife.csv\n",
            "Devolucoes - Porto Alegre.csv\n",
            "/content/drive/MyDrive/Curso Básico de Python/Vendas/Devolucoes - Porto Alegre.csv\n",
            "Vendas - Rio de Janeiro.csv\n",
            "/content/drive/MyDrive/Curso Básico de Python/Vendas/Vendas - Rio de Janeiro.csv\n",
            "Vendas - Salvador.csv\n",
            "/content/drive/MyDrive/Curso Básico de Python/Vendas/Vendas - Salvador.csv\n",
            "Vendas - Belo Horizonte.csv\n",
            "/content/drive/MyDrive/Curso Básico de Python/Vendas/Vendas - Belo Horizonte.csv\n",
            "Vendas - Porto Alegre.csv\n",
            "/content/drive/MyDrive/Curso Básico de Python/Vendas/Vendas - Porto Alegre.csv\n",
            "Devolucoes - Goiás.csv\n",
            "/content/drive/MyDrive/Curso Básico de Python/Vendas/Devolucoes - Goiás.csv\n",
            "Devolucoes - Belo Horizonte.csv\n",
            "/content/drive/MyDrive/Curso Básico de Python/Vendas/Devolucoes - Belo Horizonte.csv\n",
            "Devolucoes - Recife.csv\n",
            "/content/drive/MyDrive/Curso Básico de Python/Vendas/Devolucoes - Recife.csv\n",
            "Vendas - Goiás.csv\n",
            "/content/drive/MyDrive/Curso Básico de Python/Vendas/Vendas - Goiás.csv\n",
            "Vendas - Curitiba.csv\n",
            "/content/drive/MyDrive/Curso Básico de Python/Vendas/Vendas - Curitiba.csv\n",
            "Vendas - São Paulo.csv\n",
            "/content/drive/MyDrive/Curso Básico de Python/Vendas/Vendas - São Paulo.csv\n",
            "Vendas - Fortaleza.csv\n",
            "/content/drive/MyDrive/Curso Básico de Python/Vendas/Vendas - Fortaleza.csv\n",
            "Devolucoes - Fortaleza.csv\n",
            "/content/drive/MyDrive/Curso Básico de Python/Vendas/Devolucoes - Fortaleza.csv\n",
            "Devolucoes - Salvador.csv\n",
            "/content/drive/MyDrive/Curso Básico de Python/Vendas/Devolucoes - Salvador.csv\n",
            "Devolucoes - São Paulo.csv\n",
            "/content/drive/MyDrive/Curso Básico de Python/Vendas/Devolucoes - São Paulo.csv\n"
          ]
        }
      ]
    }
  ]
}